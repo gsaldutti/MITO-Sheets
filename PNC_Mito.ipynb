{
 "cells": [
  {
   "cell_type": "code",
   "execution_count": 3,
   "id": "328f928b-488c-4247-ae14-ca6db4f4979c",
   "metadata": {},
   "outputs": [
    {
     "data": {
      "application/vnd.jupyter.widget-view+json": {
       "model_id": "80c43b41bbe44ca5b7bc4fed04e34706",
       "version_major": 2,
       "version_minor": 0
      },
      "text/plain": [
       "MitoWidget(analysis_data_json='{\"analysisName\": \"id-mwpuqurrzo\", \"analysisToReplay\": {\"analysisName\": \"id-wcnt…"
      ]
     },
     "metadata": {},
     "output_type": "display_data"
    }
   ],
   "source": [
    "import mitosheet\n",
    "mitosheet.sheet(analysis_to_replay=\"id-wcntogmlhg\")"
   ]
  },
  {
   "cell_type": "code",
   "execution_count": 2,
   "id": "9a69bcd3-29b2-414f-8c80-6a181a688469",
   "metadata": {},
   "outputs": [],
   "source": [
    "from mitosheet import *; register_analysis(\"id-wcntogmlhg\");\n",
    "    \n",
    "# Imported C:\\Users\\gregg\\REPOs\\pyviz\\creditCardActivityExport (2).csv\n",
    "import pandas as pd\n",
    "creditCardActivityExport_2 = pd.read_csv(r'C:\\Users\\gregg\\REPOs\\pyviz\\creditCardActivityExport (2).csv')\n",
    "\n",
    "# Reordered column Amount\n",
    "creditCardActivityExport_2_columns = [col for col in creditCardActivityExport_2.columns if col != 'Amount']\n",
    "creditCardActivityExport_2_columns.insert(1, 'Amount')\n",
    "creditCardActivityExport_2 = creditCardActivityExport_2[creditCardActivityExport_2_columns]\n",
    "\n",
    "# Pivoted into creditCardActivityExport_2\n",
    "creditCardActivityExport_2_pivot = pd.DataFrame(data={})\n",
    "\n",
    "# Deleted creditCardActivityExport_2_pivot\n",
    "del creditCardActivityExport_2_pivot\n",
    "\n",
    "# Sorted Amount in descending order\n",
    "creditCardActivityExport_2 = creditCardActivityExport_2.sort_values(by='Amount', ascending=False, na_position='last')\n",
    "\n",
    "# Sorted Amount in descending order\n",
    "creditCardActivityExport_2 = creditCardActivityExport_2.sort_values(by='Amount', ascending=False, na_position='last')\n"
   ]
  },
  {
   "cell_type": "code",
   "execution_count": null,
   "id": "e00e42e7-23e1-435b-842e-0789a4ba06c0",
   "metadata": {},
   "outputs": [],
   "source": []
  }
 ],
 "metadata": {
  "kernelspec": {
   "display_name": "Python 3 (ipykernel)",
   "language": "python",
   "name": "python3"
  },
  "language_info": {
   "codemirror_mode": {
    "name": "ipython",
    "version": 3
   },
   "file_extension": ".py",
   "mimetype": "text/x-python",
   "name": "python",
   "nbconvert_exporter": "python",
   "pygments_lexer": "ipython3",
   "version": "3.7.11"
  }
 },
 "nbformat": 4,
 "nbformat_minor": 5
}
